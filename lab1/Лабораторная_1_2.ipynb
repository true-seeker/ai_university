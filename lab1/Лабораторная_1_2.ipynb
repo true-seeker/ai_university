{
 "cells": [
  {
   "cell_type": "markdown",
   "metadata": {
    "id": "zh4sQLvnNfH4",
    "pycharm": {
     "name": "#%% md\n"
    }
   },
   "source": [
    "# <center> Лабораторная 1 (Задания  1-4: Data Structures, Indexing, Cleaning Data, Math)"
   ]
  },
  {
   "cell_type": "code",
   "execution_count": 1,
   "metadata": {
    "ExecuteTime": {
     "end_time": "2020-04-23T10:16:05.965275Z",
     "start_time": "2020-04-23T10:16:05.312704Z"
    },
    "id": "84xpO18ANfH5",
    "executionInfo": {
     "status": "ok",
     "timestamp": 1674453406578,
     "user_tz": -300,
     "elapsed": 398,
     "user": {
      "displayName": "Русакова Ольга",
      "userId": "07494988447724549732"
     }
    },
    "pycharm": {
     "name": "#%%\n"
    }
   },
   "outputs": [],
   "source": [
    "import pandas as pd\n",
    "import numpy as np"
   ]
  },
  {
   "cell_type": "markdown",
   "metadata": {
    "id": "3RaLWMDYNfH6",
    "pycharm": {
     "name": "#%% md\n"
    }
   },
   "source": [
    "#### Task 1. \n",
    "Задание:\n",
    "\n",
    "1. Создайте Series из последовательности 15 значений, равномерно разбивающих отрезок [0, 20] (воспользуйтесь функцией linspace)\n",
    "2. Определите отношение элементов полученной серии к их предыдущим элементам (\\*). \n",
    "3. В результате необходимо получить среднее полученного вектора, оставив в нём только те значения, которые не более чем 1.5 (\\**). \n",
    "\n",
    "Выберите из ответов тот, который максимально близок к полученному (c точки зрения абсолютной разницы).\n",
    "\n",
    "#### Варианты ответов:\n",
    "    - 1) 1.24\n",
    "    - 2) 1.18 \n",
    "    - 3) 0.71\n",
    "    - 4) 1.13\n",
    "\n",
    "\n",
    "##### Пояснения:\n",
    "(\\*) Если было бы необходимо найти последовательность из 3-х значений,  \n",
    "равномерно разбивающих отрезок [0,1], то это были бы значения [0, 0.5, 1]. \n",
    "\n",
    "(\\**) Если был бы дан список элементов a = [1,2,3,12], отношения элементов к предыдущим будут равны [NaN, 2, 1.5, 4].  \n",
    "А на последнем этапе в таком примере останется только [1.5] и среднее значение будет также 1.5."
   ]
  },
  {
   "cell_type": "code",
   "execution_count": 2,
   "metadata": {
    "ExecuteTime": {
     "end_time": "2020-04-23T10:13:26.017568Z",
     "start_time": "2020-04-23T10:13:26.014793Z"
    },
    "id": "3Io35KjzNfH6",
    "executionInfo": {
     "status": "ok",
     "timestamp": 1674450284605,
     "user_tz": -300,
     "elapsed": 396,
     "user": {
      "displayName": "Русакова Ольга",
      "userId": "07494988447724549732"
     }
    },
    "outputId": "db2a619e-20f3-4d0f-a79c-1f5513e0267d",
    "colab": {
     "base_uri": "https://localhost:8080/"
    },
    "pycharm": {
     "name": "#%%\n"
    }
   },
   "outputs": [
    {
     "data": {
      "text/plain": "0      0.000000\n1      1.428571\n2      2.857143\n3      4.285714\n4      5.714286\n5      7.142857\n6      8.571429\n7     10.000000\n8     11.428571\n9     12.857143\n10    14.285714\n11    15.714286\n12    17.142857\n13    18.571429\n14    20.000000\ndtype: float64"
     },
     "execution_count": 2,
     "metadata": {},
     "output_type": "execute_result"
    }
   ],
   "source": [
    "### Type your code here\n",
    "s = pd.Series(np.linspace(0, 20, 15))\n",
    "s"
   ]
  },
  {
   "cell_type": "code",
   "execution_count": 3,
   "outputs": [
    {
     "data": {
      "text/plain": "0          NaN\n1          inf\n2     2.000000\n3     1.500000\n4     1.333333\n5     1.250000\n6     1.200000\n7     1.166667\n8     1.142857\n9     1.125000\n10    1.111111\n11    1.100000\n12    1.090909\n13    1.083333\n14    1.076923\ndtype: float64"
     },
     "execution_count": 3,
     "metadata": {},
     "output_type": "execute_result"
    }
   ],
   "source": [
    "s2 = s.pct_change() + 1\n",
    "s2"
   ],
   "metadata": {
    "collapsed": false,
    "pycharm": {
     "name": "#%%\n"
    }
   }
  },
  {
   "cell_type": "code",
   "execution_count": 4,
   "outputs": [
    {
     "data": {
      "text/plain": "1.181677812927813"
     },
     "execution_count": 4,
     "metadata": {},
     "output_type": "execute_result"
    }
   ],
   "source": [
    "s2[s2 <= 1.5].mean()"
   ],
   "metadata": {
    "collapsed": false,
    "pycharm": {
     "name": "#%%\n"
    }
   }
  },
  {
   "cell_type": "markdown",
   "metadata": {
    "id": "t-1G7bg9NfH7",
    "pycharm": {
     "name": "#%% md\n"
    }
   },
   "source": [
    "#### Task 2. \n",
    "Выберите все верные ответы касательно следующих четырех Series:\n",
    "    - pd.Series('abcde'); (1) \n",
    "    - pd.Series(['abcde']); (2) \n",
    "    - pd.Series(list('abcde')); (3)\n",
    "    - pd.Series(\"abcde\"); (4)\n",
    "    \n",
    "##### Пояснения:\n",
    "(\\*)\n",
    "- функция list: в строке каждый символ - это отдельный элемент для list\n",
    "- квадратные скобки: в квадратных скобках списку передается множество элементов по отдельности через запятую\n",
    "\n",
    "\n",
    "#### Вопросы:\n",
    "    - 1) Серия (1) совпадает с серией (2), так как в каждом из случаев серия создаётся из списка строк\n",
    "    - 2) Серия (2) совпадает с серией (3), так как в каждом из случаев серия создаётся из списка символов \n",
    "    - 3) Серия (1) не совпадает с серией (4), так как в (4) используются двойные кавычки \"\" вместо одинарных ''"
   ]
  },
  {
   "cell_type": "code",
   "execution_count": 5,
   "outputs": [
    {
     "data": {
      "text/plain": "'Ответ 1'"
     },
     "execution_count": 5,
     "metadata": {},
     "output_type": "execute_result"
    }
   ],
   "source": [
    "'Ответ 1'"
   ],
   "metadata": {
    "collapsed": false,
    "pycharm": {
     "name": "#%%\n"
    }
   }
  },
  {
   "cell_type": "markdown",
   "metadata": {
    "id": "CngnOLW5NfH8",
    "pycharm": {
     "name": "#%% md\n"
    }
   },
   "source": [
    "#### Task 3. \n",
    "\n",
    "По клиенту получены зашумленные данные (объект s типа Series) по его транзакциям. \n",
    "\n",
    "Для заданного ниже объекта s проделайте следующее:\n",
    "1. Создайте новый Series, значения которого совпадают со значениями s, а индексы - целочисленные значения от 2 до 12, не включая 12. \n",
    "2. Выберите из s элементы с индексами 3 и 5, после чего просуммируйте их, сохранив результат (1). \n",
    "3. Выберите из s только целочисленные элементы и вычислите их дисперсию (2). (\\*)\n",
    "\n",
    "Все полученные результаты округлите до 2-х знаков после запятой.\n",
    "\n",
    "#### Выберите все верные пункты:\n",
    "    - 1) Ответ (1) - 642.52\n",
    "    - 2) Ответ (1) - 91.78\n",
    "    - 3) Ответ (1) - не может быть определён\n",
    "\n",
    "Вопрос 2\n",
    "    - 4) Ответ (2) - 57591.19\n",
    "    - 5) Ответ (2) - 210.12\n",
    "    - 6) Ответ (2) - не может быть определён\n",
    "\n",
    "##### Пояснения:\n",
    "(\\*) Целочисленные значения - значения, имеющие тип int.\n",
    "- Дисперсия рассчитывается с помощью функции из библиотеки numpy: np.var( , ddof=0) или встроенной в python функции: .var(ddof=1)"
   ]
  },
  {
   "cell_type": "code",
   "execution_count": 6,
   "metadata": {
    "ExecuteTime": {
     "end_time": "2020-04-23T10:17:18.795695Z",
     "start_time": "2020-04-23T10:17:18.791449Z"
    },
    "id": "v6IQKItONfH8",
    "pycharm": {
     "name": "#%%\n"
    }
   },
   "outputs": [
    {
     "data": {
      "text/plain": "6         1\n8         2\n10      3.1\n12      hi!\n14        5\n16     -512\n18    12.42\n20     sber\n22     10.1\n24       98\ndtype: object"
     },
     "execution_count": 6,
     "metadata": {},
     "output_type": "execute_result"
    }
   ],
   "source": [
    "s = pd.Series(data=['1', 2, 3.1, 'hi!', 5, -512, 12.42, 'sber', 10.10, 98],\n",
    "              index=range(6, 26, 2))\n",
    "### Type your code here\n",
    "s"
   ]
  },
  {
   "cell_type": "code",
   "execution_count": 7,
   "outputs": [
    {
     "data": {
      "text/plain": "2         1\n3         2\n4       3.1\n5       hi!\n6         5\n7      -512\n8     12.42\n9      sber\n10     10.1\n11       98\ndtype: object"
     },
     "execution_count": 7,
     "metadata": {},
     "output_type": "execute_result"
    }
   ],
   "source": [
    "s2 = pd.Series(s.values, index=range(2, 12))\n",
    "s2"
   ],
   "metadata": {
    "collapsed": false,
    "pycharm": {
     "name": "#%%\n"
    }
   }
  },
  {
   "cell_type": "code",
   "execution_count": 8,
   "outputs": [
    {
     "ename": "TypeError",
     "evalue": "can only concatenate str (not \"int\") to str",
     "output_type": "error",
     "traceback": [
      "\u001B[0;31m---------------------------------------------------------------------------\u001B[0m",
      "\u001B[0;31mTypeError\u001B[0m                                 Traceback (most recent call last)",
      "Cell \u001B[0;32mIn[8], line 1\u001B[0m\n\u001B[0;32m----> 1\u001B[0m \u001B[38;5;28msum\u001B[39m \u001B[38;5;241m=\u001B[39m \u001B[43ms\u001B[49m\u001B[38;5;241;43m.\u001B[39;49m\u001B[43miloc\u001B[49m\u001B[43m[\u001B[49m\u001B[38;5;241;43m3\u001B[39;49m\u001B[43m]\u001B[49m\u001B[43m \u001B[49m\u001B[38;5;241;43m+\u001B[39;49m\u001B[43m \u001B[49m\u001B[43ms\u001B[49m\u001B[38;5;241;43m.\u001B[39;49m\u001B[43miloc\u001B[49m\u001B[43m[\u001B[49m\u001B[38;5;241;43m5\u001B[39;49m\u001B[43m]\u001B[49m\n\u001B[1;32m      2\u001B[0m \u001B[38;5;28msum\u001B[39m\n",
      "\u001B[0;31mTypeError\u001B[0m: can only concatenate str (not \"int\") to str"
     ]
    }
   ],
   "source": [
    "sum = s.iloc[3] + s.iloc[5]\n",
    "sum"
   ],
   "metadata": {
    "collapsed": false,
    "pycharm": {
     "name": "#%%\n"
    }
   }
  },
  {
   "cell_type": "code",
   "execution_count": 9,
   "outputs": [
    {
     "data": {
      "text/plain": "57591.1875"
     },
     "execution_count": 9,
     "metadata": {},
     "output_type": "execute_result"
    }
   ],
   "source": [
    "s_int = s[s.map(type).eq(int)].var(ddof=0)\n",
    "s_int"
   ],
   "metadata": {
    "collapsed": false,
    "pycharm": {
     "name": "#%%\n"
    }
   }
  },
  {
   "cell_type": "markdown",
   "metadata": {
    "id": "4WwQBIS5NfH9",
    "pycharm": {
     "name": "#%% md\n"
    }
   },
   "source": [
    "#### Task 4. \n",
    "1. Сгенерируйте Series из 100 значений нормально распределённой СВ (np.random.normal с дефолтными параметрами - нулевым средним и единичной дисперсией).\n",
    "2. Возведите каждое значение серии в 3 степень, а значения индекса увеличьте в 3 раза. \n",
    "3. Ответьте на следующие вопросы через запятую (без пробелов) (\\*)\n",
    "    - 1) Выведите сумму элементов, строго меньших 2.6, имеющих нечётные значения индекса. \n",
    "    - 2) Выведите количество значений серии меньше нуля.\n",
    "\n",
    "#### Пояснения:\n",
    "(\\*) Если получились ответы 3, 4.32, то в форму необходимо внести их в виде \"3,4.32\". То есть вещественные числа необходимо разделять точками. Не забудьте про фиксированный seed (его менять не нужно)!\n",
    " - Определенное значение seed нужно, чтобы ответы у всех выполняющих\n",
    "это задание были одинаковые и их можно было проверить (так как генерируются\n",
    "одинаковые series).\n",
    " - Следует внимательнее использовать [ ] для выбора данных по нескольким условиям:\n",
    "либо выбирать данные последовательно, либо сразу по нескольким условиям,\n",
    "но через оператор &. Отличие оператора and от оператора &: and - выводит\n",
    "последнее проверенное значение, & - выводит пересечение значений.\n",
    "Пример: s[ _  &  _ ].sum() "
   ]
  },
  {
   "cell_type": "code",
   "execution_count": 10,
   "metadata": {
    "ExecuteTime": {
     "end_time": "2020-04-23T10:18:35.713300Z",
     "start_time": "2020-04-23T10:18:35.710616Z"
    },
    "id": "0WhBJImnNfH-",
    "pycharm": {
     "name": "#%%\n"
    }
   },
   "outputs": [
    {
     "data": {
      "text/plain": "array([-0.3575194 ,  0.14844784,  0.9935308 ,  1.83896759, -0.74402603,\n       -0.30933858,  1.06435377,  0.39379147, -0.72326805, -0.43908758,\n       -0.72424933,  0.04413067,  1.32435263,  2.55070044, -0.47802515,\n       -0.05111295, -1.08871973,  0.58243849,  0.288986  ,  1.5803185 ,\n        0.45996385, -0.48851752,  1.35520333,  0.8316917 ,  0.51027158,\n        0.38617972, -1.36627217, -0.33444782, -0.07715702, -0.21114468,\n        0.61689598,  0.8196139 , -0.6200122 , -0.80192859,  0.00382742,\n       -0.27550862,  2.4460033 , -1.65425816,  0.00902548, -0.77445181,\n        1.3559221 , -1.36680989, -0.01921295,  2.06069556,  0.96623665,\n       -0.23154637, -1.92171805, -1.72587483,  1.57984776,  1.20692336,\n        0.44768286,  1.10376661,  1.18592362,  0.47596674,  0.54817634,\n       -0.24859981, -1.21011023,  0.59047206,  1.58125789, -1.26216105,\n       -1.90264987, -0.60844867, -0.4688816 ,  0.76117324, -0.03424265,\n        1.40783322,  0.65584495, -0.50108829,  0.46618283, -0.52551498,\n        0.72651853,  0.7185611 ,  1.11997403, -1.04310934, -1.54003225,\n       -0.43746196,  0.06881191, -1.3557466 ,  1.19645885, -1.26234946,\n       -0.30046385, -0.55504321, -2.00360677, -0.32054256, -0.31664137,\n       -0.27866765,  0.83099687, -0.188851  , -0.78557097,  0.74480199,\n       -0.9957176 ,  0.96085135,  0.04240895, -0.83816761, -0.27849281,\n        0.95029582,  0.73731496, -0.73998504, -1.3762603 ,  0.05226049])"
     },
     "execution_count": 10,
     "metadata": {},
     "output_type": "execute_result"
    }
   ],
   "source": [
    "np.random.seed(242)\n",
    "normal = np.random.normal(size=100)\n",
    "normal"
   ]
  },
  {
   "cell_type": "code",
   "execution_count": 11,
   "outputs": [
    {
     "data": {
      "text/plain": "0     -0.045698\n3      0.003271\n6      0.980718\n9      6.219024\n12    -0.411874\n         ...   \n285    0.858176\n288    0.400829\n291   -0.405199\n294   -2.606764\n297    0.000143\nLength: 100, dtype: float64"
     },
     "execution_count": 11,
     "metadata": {},
     "output_type": "execute_result"
    }
   ],
   "source": [
    "normal = normal ** 3\n",
    "normal_pd = pd.Series(normal)\n",
    "normal_pd.index = normal_pd.index * 3\n",
    "normal_pd"
   ],
   "metadata": {
    "collapsed": false,
    "pycharm": {
     "name": "#%%\n"
    }
   }
  },
  {
   "cell_type": "code",
   "execution_count": 12,
   "outputs": [
    {
     "data": {
      "text/plain": "-15.150748101821666"
     },
     "execution_count": 12,
     "metadata": {},
     "output_type": "execute_result"
    }
   ],
   "source": [
    "normal_pd[normal_pd.index.map(lambda x: x % 2 == 1)][normal_pd < 2.6].sum()"
   ],
   "metadata": {
    "collapsed": false,
    "pycharm": {
     "name": "#%%\n"
    }
   }
  },
  {
   "cell_type": "code",
   "execution_count": 13,
   "outputs": [
    {
     "data": {
      "text/plain": "51"
     },
     "execution_count": 13,
     "metadata": {},
     "output_type": "execute_result"
    }
   ],
   "source": [
    "len(normal_pd[normal_pd < 0])"
   ],
   "metadata": {
    "collapsed": false,
    "pycharm": {
     "name": "#%%\n"
    }
   }
  },
  {
   "cell_type": "markdown",
   "metadata": {
    "id": "SKhGBjS-NfH-",
    "pycharm": {
     "name": "#%% md\n"
    }
   },
   "source": [
    "### Информация для последующих заданий\n",
    "- Для всех последующих заданий будем использовать обезличенные транзакционные банковские данные. Для этого считайте в переменные tr_mcc_codes, tr_types, transactions и gender_train из одноимённых таблиц из папки data. Для таблицы transactions используйте только первые n=1000000 строк. Обратите внимание на разделители внутри каждого из файлов - они могут различаться!"
   ]
  },
  {
   "cell_type": "code",
   "execution_count": 14,
   "metadata": {
    "ExecuteTime": {
     "end_time": "2020-04-23T10:19:13.080203Z",
     "start_time": "2020-04-23T10:19:13.077711Z"
    },
    "id": "VVwfBImXNfH-",
    "pycharm": {
     "name": "#%%\n"
    }
   },
   "outputs": [],
   "source": [
    "tr_mcc_codes = pd.read_csv(\"../data/tr_mcc_codes.csv\", encoding='utf-8', sep=';', header=0)\n",
    "# tr_mcc_codes\n",
    "tr_types = pd.read_csv(\"../data/tr_types.csv\", sep=';', header=0)\n",
    "# tr_types\n",
    "transactions = pd.read_csv(\"../data/transactions.csv\", encoding='utf-8', header=0, nrows=1000000)\n",
    "# transactions\n",
    "gender_train = pd.read_excel(\"../data/gender_train.xlsx\")\n",
    "# gender_train"
   ]
  },
  {
   "cell_type": "markdown",
   "metadata": {
    "id": "-GyS_JCKNfH_",
    "pycharm": {
     "name": "#%% md\n"
    }
   },
   "source": [
    "## Лабораторная 2\n",
    "## Задания 5 - 8\n",
    "## Описание данных\n",
    "### Таблица ```transactions.csv```\n",
    "##### Описание\n",
    "Таблица содержит историю транзакций клиентов банка за один год и три месяца.\n",
    "\n",
    "##### Формат данных\n",
    "\n",
    "```\n",
    "customer_id,tr_datetime,mcc_code,tr_type,amount,term_id\n",
    "111111,15 01:40:52,1111,1000,-5224,111111\n",
    "111112,15 15:18:32,3333,2000,-100,11122233\n",
    "...\n",
    "```\n",
    "##### Описание полей\n",
    "\n",
    " - ```customer_id``` — идентификатор клиента;\n",
    " - ```tr_datetime``` — день и время совершения транзакции (дни нумеруются с начала данных);\n",
    " - ```mcc_code``` — mcc-код транзакции;\n",
    " - ```tr_type``` — тип транзакции;\n",
    " - ```amount``` — сумма транзакции в условных единицах со знаком; ```+``` — начисление средств клиенту (приходная транзакция), ```-``` — списание средств (расходная транзакция);\n",
    " - ```term_id``` — идентификатор терминала;\n",
    "\n",
    "\n",
    "### Таблица ```gender_train.csv```\n",
    "\n",
    "##### Описание\n",
    "Данная таблица содержит информацию по полу для части клиентов, для которых он известен. Для остальных клиентов пол неизвестен.\n",
    "\n",
    "##### Формат данных\n",
    "```\n",
    "customer_id,gender\n",
    "111111,0\n",
    "111112,1\n",
    "...\n",
    "```\n",
    "\n",
    "##### Описание полей\n",
    " - ```customer_id``` — идентификатор клиента;\n",
    " - ```gender``` — пол клиента;\n",
    "\n",
    "### Таблица ```tr_mcc_codes.csv```\n",
    "\n",
    "##### Описание\n",
    "Данная таблица содержит описание mcc-кодов транзакций.\n",
    "\n",
    "##### Формат данных\n",
    "```\n",
    "mcc_code;mcc_description\n",
    "1000;словесное описание mcc-кода 1000\n",
    "2000;словесное описание mcc-кода 2000\n",
    "...\n",
    "```\n",
    "\n",
    "##### Описание полей\n",
    " - ```mcc_code``` – mcc-код транзакции;\n",
    " - ```mcc_description``` — описание mcc-кода транзакции.\n",
    "\n",
    "### Таблица ```tr_types.csv```\n",
    "\n",
    "##### Описание\n",
    "Данная таблица содержит описание типов транзакций.\n",
    "\n",
    "##### Формат данных\n",
    "```\n",
    "tr_type;tr_description\n",
    "1000;словесное описание типа транзакции 1000\n",
    "2000;словесное описание типа транзакции 2000\n",
    "...\n",
    "```\n",
    "\n",
    "##### Описание полей\n",
    " - ```tr_type``` – тип транзакции;\n",
    " - ```tr_description``` — описание типа транзакции;"
   ]
  },
  {
   "cell_type": "markdown",
   "metadata": {
    "id": "wwGyEqLhNfH_",
    "pycharm": {
     "name": "#%% md\n"
    }
   },
   "source": [
    "#### Task 5.\n",
    "1. В tr_types выберите произвольные 100 строк с помощью метода sample (указав при этом random_seed равный 242)\n",
    "2. В полученной на предыдущем этапе подвыборке найдите долю наблюдений (стобец tr_description), в которой содержится подстрока 'плата' (в любом регистре). (\\*)\n",
    "\n",
    "Выведите ответ в виде вещественного числа, округлённого до двух знаков после запятой, отделив дробную часть точкой в формате \"123.45\"\n",
    "\n",
    "##### Пояснения:\n",
    "(\\*) Строки \"ПлатА за аренду\", \"ПлатАза аренду\", \"ПЛАТА\" удовлетворяют условию, так как будучи переведёнными в нижний регистр содержат подстроку \"плата\"."
   ]
  },
  {
   "cell_type": "code",
   "execution_count": 15,
   "metadata": {
    "ExecuteTime": {
     "end_time": "2020-04-23T10:19:45.872766Z",
     "start_time": "2020-04-23T10:19:45.870317Z"
    },
    "scrolled": true,
    "id": "hRGDtzstNfIA",
    "pycharm": {
     "name": "#%%\n"
    }
   },
   "outputs": [
    {
     "data": {
      "text/plain": "0.26"
     },
     "execution_count": 15,
     "metadata": {},
     "output_type": "execute_result"
    }
   ],
   "source": [
    "### Type your code here\n",
    "np.random.seed(242)\n",
    "new_tr_types = tr_types.sample(100)\n",
    "new_tr_types_with_substring = new_tr_types[new_tr_types['tr_description'].str.contains('плата', case=False)]\n",
    "len(new_tr_types_with_substring) / len(new_tr_types)"
   ]
  },
  {
   "cell_type": "markdown",
   "metadata": {
    "id": "oSUszR2CNfIA",
    "pycharm": {
     "name": "#%% md\n"
    }
   },
   "source": [
    "#### Task 6. \n",
    "1. Для поля tr_type датафрейма transactions посчитайте частоту встречаемости всех типов транзакций tr_type в transactions.\n",
    "2. Из перечисленных вариантов выберите те, которые попали в топ-5 транзакций по частоте встречаемости.\n",
    "\n",
    "#### Выберите все верные пункты:\n",
    "    - 1) Выдача наличных в АТМ Сбербанк России\n",
    "    - 2) Комиссия за обслуживание ссудного счета\n",
    "    - 3) Списание по требованию\t\n",
    "    - 4) Оплата услуги. Банкоматы СБ РФ\n",
    "    - 5) Погашение кредита (в пределах одного филиала)\n",
    "    - 6) Покупка. POS ТУ СБ РФ"
   ]
  },
  {
   "cell_type": "code",
   "execution_count": 16,
   "metadata": {
    "ExecuteTime": {
     "end_time": "2020-04-23T10:20:31.273965Z",
     "start_time": "2020-04-23T10:20:31.271483Z"
    },
    "id": "WGmvqhdENfIA",
    "pycharm": {
     "name": "#%%\n"
    }
   },
   "outputs": [
    {
     "data": {
      "text/plain": "Покупка. POS ТУ СБ РФ                                                                            231117\nВыдача наличных в АТМ Сбербанк России                                                            151166\nПеревод на карту (с карты) через Мобильный банк (без взимания комиссии с отправителя)            149006\nПокупка. POS ТУ Россия                                                                           137658\nОплата услуги. Банкоматы СБ РФ                                                                   118975\n                                                                                                  ...  \nПлата за получение наличных. Зарубеж.                                                                 6\nНаличные.  Зарубеж. банк                                                                              6\nСписание с карты по операции “перевода с карты на карту” через POS (из одного ТБ в другой ТБ)         4\nПлата за перевод на карту (с карты) через POS (из одного ТБ в другой ТБ)                              4\nСписание после проведения претензионной работы                                                        2\nName: tr_description, Length: 61, dtype: int64"
     },
     "execution_count": 16,
     "metadata": {},
     "output_type": "execute_result"
    }
   ],
   "source": [
    "### Type your code here\n",
    "transactions.merge(tr_types, on='tr_type', how='inner')['tr_description'].value_counts()\n",
    "# 6, 1, 4"
   ]
  },
  {
   "cell_type": "markdown",
   "metadata": {
    "id": "ZtZM8Cv1NfIA",
    "pycharm": {
     "name": "#%% md\n"
    }
   },
   "source": [
    "#### Task 7.\n",
    "1. В датафрейме transactions задайте столбец  customer_id в качестве индекса.\n",
    "2. Выделите клиента с максимальной суммой транзакции (то есть с максимальным приходом на карту). (\\*)\n",
    "3. Найдите у него наиболее часто встречающийся модуль суммы приходов/расходов. (\\**)\n",
    "\n",
    "\n",
    "#### Выберите все верные пункты:\n",
    "    - 1) 1122957.89\n",
    "    - 2) 15721.41\n",
    "    - 3) 22459.16\n",
    "    - 4) 13475494.63\n",
    "    - 5) 107407.78\n",
    "    - 6) 65019.26\n",
    "\n",
    "##### Пояснения:\n",
    "(\\*) Если у клиента были транзакции [-10000, 10, 0, -10], то максимумом будет являться значение 10. <br>\n",
    "(\\**) Если у клиента были транзакции [-10000, 10, 0, -10], то наиболее встречающийся модуль суммы транзакций равен 10, и встретился он 2 раза."
   ]
  },
  {
   "cell_type": "code",
   "execution_count": 17,
   "outputs": [
    {
     "data": {
      "text/plain": "              tr_datetime  mcc_code  tr_type    amount   term_id\ncustomer_id                                                     \n39026145       0 10:23:26      4814     1030  -2245.92       NaN\n39026145       1 10:19:29      6011     7010  56147.89       NaN\n39026145       1 10:20:56      4829     2330 -56147.89       NaN\n39026145       1 10:39:54      5499     1010  -1392.47       NaN\n39026145       2 15:33:42      5499     1010   -920.83       NaN\n...                   ...       ...      ...       ...       ...\n98801178     269 10:29:06      5921     1010 -23016.59    127873\n98801178     270 10:26:45      5211     1010 -61380.88  10114209\n98801178     270 15:18:53      5921     1010 -11800.27  10105341\n98801178     271 12:47:13      5211     1010 -16170.59  10114209\n98801178     271 14:51:56      5921     1010 -10025.77    123991\n\n[1000000 rows x 5 columns]",
      "text/html": "<div>\n<style scoped>\n    .dataframe tbody tr th:only-of-type {\n        vertical-align: middle;\n    }\n\n    .dataframe tbody tr th {\n        vertical-align: top;\n    }\n\n    .dataframe thead th {\n        text-align: right;\n    }\n</style>\n<table border=\"1\" class=\"dataframe\">\n  <thead>\n    <tr style=\"text-align: right;\">\n      <th></th>\n      <th>tr_datetime</th>\n      <th>mcc_code</th>\n      <th>tr_type</th>\n      <th>amount</th>\n      <th>term_id</th>\n    </tr>\n    <tr>\n      <th>customer_id</th>\n      <th></th>\n      <th></th>\n      <th></th>\n      <th></th>\n      <th></th>\n    </tr>\n  </thead>\n  <tbody>\n    <tr>\n      <th>39026145</th>\n      <td>0 10:23:26</td>\n      <td>4814</td>\n      <td>1030</td>\n      <td>-2245.92</td>\n      <td>NaN</td>\n    </tr>\n    <tr>\n      <th>39026145</th>\n      <td>1 10:19:29</td>\n      <td>6011</td>\n      <td>7010</td>\n      <td>56147.89</td>\n      <td>NaN</td>\n    </tr>\n    <tr>\n      <th>39026145</th>\n      <td>1 10:20:56</td>\n      <td>4829</td>\n      <td>2330</td>\n      <td>-56147.89</td>\n      <td>NaN</td>\n    </tr>\n    <tr>\n      <th>39026145</th>\n      <td>1 10:39:54</td>\n      <td>5499</td>\n      <td>1010</td>\n      <td>-1392.47</td>\n      <td>NaN</td>\n    </tr>\n    <tr>\n      <th>39026145</th>\n      <td>2 15:33:42</td>\n      <td>5499</td>\n      <td>1010</td>\n      <td>-920.83</td>\n      <td>NaN</td>\n    </tr>\n    <tr>\n      <th>...</th>\n      <td>...</td>\n      <td>...</td>\n      <td>...</td>\n      <td>...</td>\n      <td>...</td>\n    </tr>\n    <tr>\n      <th>98801178</th>\n      <td>269 10:29:06</td>\n      <td>5921</td>\n      <td>1010</td>\n      <td>-23016.59</td>\n      <td>127873</td>\n    </tr>\n    <tr>\n      <th>98801178</th>\n      <td>270 10:26:45</td>\n      <td>5211</td>\n      <td>1010</td>\n      <td>-61380.88</td>\n      <td>10114209</td>\n    </tr>\n    <tr>\n      <th>98801178</th>\n      <td>270 15:18:53</td>\n      <td>5921</td>\n      <td>1010</td>\n      <td>-11800.27</td>\n      <td>10105341</td>\n    </tr>\n    <tr>\n      <th>98801178</th>\n      <td>271 12:47:13</td>\n      <td>5211</td>\n      <td>1010</td>\n      <td>-16170.59</td>\n      <td>10114209</td>\n    </tr>\n    <tr>\n      <th>98801178</th>\n      <td>271 14:51:56</td>\n      <td>5921</td>\n      <td>1010</td>\n      <td>-10025.77</td>\n      <td>123991</td>\n    </tr>\n  </tbody>\n</table>\n<p>1000000 rows × 5 columns</p>\n</div>"
     },
     "execution_count": 17,
     "metadata": {},
     "output_type": "execute_result"
    }
   ],
   "source": [
    "transactions = transactions.set_index('customer_id')\n",
    "transactions"
   ],
   "metadata": {
    "collapsed": false,
    "pycharm": {
     "name": "#%%\n"
    }
   }
  },
  {
   "cell_type": "code",
   "execution_count": 20,
   "metadata": {
    "ExecuteTime": {
     "end_time": "2020-04-23T10:20:53.265495Z",
     "start_time": "2020-04-23T10:20:53.263208Z"
    },
    "scrolled": true,
    "id": "KY2IeyboNfIB",
    "pycharm": {
     "name": "#%%\n"
    }
   },
   "outputs": [
    {
     "data": {
      "text/plain": "26782922"
     },
     "execution_count": 20,
     "metadata": {},
     "output_type": "execute_result"
    }
   ],
   "source": [
    "max_transaction_sum_client_id = transactions.groupby('customer_id')['amount'].max().sort_values(ascending=False).index[0]\n",
    "max_transaction_sum_client_id"
   ]
  },
  {
   "cell_type": "code",
   "execution_count": 21,
   "outputs": [
    {
     "name": "stderr",
     "output_type": "stream",
     "text": [
      "/tmp/ipykernel_3253/1063878581.py:2: SettingWithCopyWarning: \n",
      "A value is trying to be set on a copy of a slice from a DataFrame.\n",
      "Try using .loc[row_indexer,col_indexer] = value instead\n",
      "\n",
      "See the caveats in the documentation: https://pandas.pydata.org/pandas-docs/stable/user_guide/indexing.html#returning-a-view-versus-a-copy\n",
      "  max_transaction_sum_client_transactions['amount'] = max_transaction_sum_client_transactions['amount'].abs()\n"
     ]
    },
    {
     "data": {
      "text/plain": "22459.16"
     },
     "execution_count": 21,
     "metadata": {},
     "output_type": "execute_result"
    }
   ],
   "source": [
    "max_transaction_sum_client_transactions = transactions.loc[max_transaction_sum_client_id]\n",
    "max_transaction_sum_client_transactions['amount'] = max_transaction_sum_client_transactions['amount'].abs()\n",
    "max_transaction_sum_client_transactions.groupby('amount')['amount'].count().sort_values(ascending=False).index[0]"
   ],
   "metadata": {
    "collapsed": false,
    "pycharm": {
     "name": "#%%\n"
    }
   }
  },
  {
   "cell_type": "markdown",
   "metadata": {
    "id": "xHs9z6zFNfIB",
    "pycharm": {
     "name": "#%% md\n"
    }
   },
   "source": [
    "#### Task 8.\n",
    "1. Найдите максимальную разницу между медианами суммы транзакций, посчитанными при заданных ниже условиях по полю amount из таблицы transactions (\\*):\n",
    "    - Медиана суммы транзакций\n",
    "    - Медиана суммы транзакций по тем строкам, которые ни в одном из своих столбцов не содержат пустые значения\n",
    "    - Медиана суммы транзакций по строкам, отсортированным по полю amount в порядке возрастания, и из которых удалены дублирующиеся по столбцам [mcc_code, tr_type] строки, причём при удалении соответстующих дублей остаются только последние из дублирующихся строк (keep='last')\n",
    "\n",
    "Выведите ответ в виде вещественного числа, округлённого до двух знаков после запятой, отделив дробную часть точкой в формате \"123.45\"\n",
    "\n",
    "##### Пояснения:\n",
    "(\\*) Для вычисления максимальной разницы между значениями списка можно использовать функцию np.ptp  \n",
    "(\\**) Если в результате получились значения [1,3,5], то макимальная разница между ними 4 == 5-1."
   ]
  },
  {
   "cell_type": "code",
   "execution_count": 22,
   "metadata": {
    "ExecuteTime": {
     "end_time": "2020-04-23T10:21:36.645933Z",
     "start_time": "2020-04-23T10:21:36.643612Z"
    },
    "scrolled": true,
    "id": "h7eSnA3oNfIB",
    "pycharm": {
     "name": "#%%\n"
    }
   },
   "outputs": [
    {
     "data": {
      "text/plain": "-5614.79"
     },
     "execution_count": 22,
     "metadata": {},
     "output_type": "execute_result"
    }
   ],
   "source": [
    "first_median = transactions['amount'].median()\n",
    "first_median"
   ]
  },
  {
   "cell_type": "code",
   "execution_count": 23,
   "outputs": [
    {
     "data": {
      "text/plain": "-5596.6"
     },
     "execution_count": 23,
     "metadata": {},
     "output_type": "execute_result"
    }
   ],
   "source": [
    "second_median = transactions[~transactions.isnull().any(axis=1)]['amount'].median()\n",
    "second_median"
   ],
   "metadata": {
    "collapsed": false,
    "pycharm": {
     "name": "#%%\n"
    }
   }
  },
  {
   "cell_type": "code",
   "execution_count": 24,
   "outputs": [
    {
     "data": {
      "text/plain": "-920.83"
     },
     "execution_count": 24,
     "metadata": {},
     "output_type": "execute_result"
    }
   ],
   "source": [
    "third_median = transactions.sort_values(by='amount').drop_duplicates(subset=['mcc_code', 'tr_type'], keep='last')['amount'].median()\n",
    "third_median"
   ],
   "metadata": {
    "collapsed": false,
    "pycharm": {
     "name": "#%%\n"
    }
   }
  },
  {
   "cell_type": "code",
   "execution_count": 25,
   "outputs": [
    {
     "data": {
      "text/plain": "4693.96"
     },
     "execution_count": 25,
     "metadata": {},
     "output_type": "execute_result"
    }
   ],
   "source": [
    "np.ptp([first_median, second_median, third_median])"
   ],
   "metadata": {
    "collapsed": false,
    "pycharm": {
     "name": "#%%\n"
    }
   }
  },
  {
   "cell_type": "code",
   "execution_count": null,
   "outputs": [],
   "source": [],
   "metadata": {
    "collapsed": false,
    "pycharm": {
     "name": "#%%\n"
    }
   }
  }
 ],
 "metadata": {
  "hide_input": false,
  "kernelspec": {
   "display_name": "Python 3",
   "language": "python",
   "name": "python3"
  },
  "language_info": {
   "codemirror_mode": {
    "name": "ipython",
    "version": 3
   },
   "file_extension": ".py",
   "mimetype": "text/x-python",
   "name": "python",
   "nbconvert_exporter": "python",
   "pygments_lexer": "ipython3",
   "version": "3.8.5"
  },
  "toc": {
   "base_numbering": 1,
   "nav_menu": {},
   "number_sections": true,
   "sideBar": true,
   "skip_h1_title": false,
   "title_cell": "Table of Contents",
   "title_sidebar": "Contents",
   "toc_cell": true,
   "toc_position": {},
   "toc_section_display": true,
   "toc_window_display": false
  },
  "varInspector": {
   "cols": {
    "lenName": 16,
    "lenType": 16,
    "lenVar": 40
   },
   "kernels_config": {
    "python": {
     "delete_cmd_postfix": "",
     "delete_cmd_prefix": "del ",
     "library": "var_list.py",
     "varRefreshCmd": "print(var_dic_list())"
    },
    "r": {
     "delete_cmd_postfix": ") ",
     "delete_cmd_prefix": "rm(",
     "library": "var_list.r",
     "varRefreshCmd": "cat(var_dic_list()) "
    }
   },
   "types_to_exclude": [
    "module",
    "function",
    "builtin_function_or_method",
    "instance",
    "_Feature"
   ],
   "window_display": false
  },
  "colab": {
   "provenance": []
  }
 },
 "nbformat": 4,
 "nbformat_minor": 0
}